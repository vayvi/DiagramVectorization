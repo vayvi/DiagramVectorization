{
 "cells": [
  {
   "cell_type": "code",
   "execution_count": null,
   "metadata": {},
   "outputs": [],
   "source": [
    "import torch\n",
    "import yaml\n",
    "from glob import glob\n",
    "from pathlib import Path\n",
    "import torch.nn.functional as F\n",
    "import matplotlib.pyplot as plt\n",
    "from postprocess import process_image, load_model, dict_to_namespace, plot_results\n",
    "import numpy as np\n",
    "import os"
   ]
  },
  {
   "attachments": {},
   "cell_type": "markdown",
   "metadata": {},
   "source": [
    "#### Load model"
   ]
  },
  {
   "cell_type": "code",
   "execution_count": null,
   "metadata": {},
   "outputs": [],
   "source": [
    "root = Path(os.getcwd())\n",
    "stage2 = False\n",
    "if stage2:\n",
    "    exp_folder = root / \"exp/res50_stage2_circles/checkpoints\"\n",
    "else:\n",
    "    exp_folder = root / \"exp/res50_stage1_circles/checkpoints\"\n"
   ]
  },
  {
   "cell_type": "code",
   "execution_count": null,
   "metadata": {},
   "outputs": [],
   "source": [
    "cfg_file_name = \"config_primitives_stage2.yaml\" if stage2 else \"config_primitives.yaml\" \n",
    "with open(cfg_file_name, \"r\") as f:\n",
    "    config_dict = yaml.safe_load(f)\n",
    "cfg = dict_to_namespace(config_dict)\n",
    "model = load_model(cfg, exp_folder)\n",
    "model.eval()"
   ]
  },
  {
   "attachments": {},
   "cell_type": "markdown",
   "metadata": {},
   "source": [
    "#### Load image"
   ]
  },
  {
   "cell_type": "code",
   "execution_count": null,
   "metadata": {},
   "outputs": [],
   "source": [
    "diagram_name = \"diagram13\"\n",
    "im_path = root / f\"data/diagrams/images/{diagram_name}.png\"\n",
    "raw_img = plt.imread(im_path)[:,:,:3]"
   ]
  },
  {
   "attachments": {},
   "cell_type": "markdown",
   "metadata": {},
   "source": [
    "#### Predict"
   ]
  },
  {
   "cell_type": "code",
   "execution_count": null,
   "metadata": {},
   "outputs": [],
   "source": [
    "inputs, orig_size = process_image(raw_img)\n",
    "outputs = model(inputs)\n",
    "outputs = outputs[\"shapes\"]\n",
    "out_logits, out_line = outputs['pred_logits'], outputs['pred_shapes']\n",
    "prob = F.softmax(out_logits, -1)[0,:,:-1]\n",
    "threshold = 0.05\n"
   ]
  },
  {
   "cell_type": "code",
   "execution_count": null,
   "metadata": {},
   "outputs": [],
   "source": [
    "prob = F.softmax(out_logits, -1)[0,:,:-1]\n",
    "keep = prob.max(-1).values > threshold\n",
    "prob = prob[keep]\n",
    "out_line = out_line[0, keep]\n",
    "\n",
    "img_h, img_w = orig_size.unbind(0)\n",
    "scale_fct = torch.unsqueeze(torch.stack([img_w, img_h, img_w, img_h], dim=0), dim=0)\n",
    "\n",
    "lines = out_line * scale_fct[:, None, :]\n",
    "lines = lines.view(len(out_line), 2, 2)\n",
    "lines = lines.flip([-1])# this is yxyx format\n",
    "lines = lines.reshape(lines.shape[0], -1)\n"
   ]
  },
  {
   "cell_type": "code",
   "execution_count": null,
   "metadata": {},
   "outputs": [],
   "source": [
    "def plot_results(ax, prob, boxes, thresh_line, thresh_circle):\n",
    "    c = \"green\"\n",
    "    for p, line in zip(prob, boxes):\n",
    "        ymin, xmin, ymax, xmax = line.detach().numpy()\n",
    "        cl = p.argmax()\n",
    "        label = \"line\" if cl == 0 else \"circle\"\n",
    "        if label == \"line\" and p[cl] > thresh_line:\n",
    "            ax.plot([xmin, xmax], [ymin, ymax], c=c, linewidth=1)\n",
    "\n",
    "        elif label == \"circle\" and p[cl] > thresh_circle:\n",
    "            r1 = (xmax - xmin) / 2\n",
    "            r2 = (ymax - ymin) / 2\n",
    "            center = (xmin + r1, ymin + r2)\n",
    "            ax.add_patch(plt.Circle(center, r2, color=c, fill=False, linewidth=1)) "
   ]
  },
  {
   "cell_type": "code",
   "execution_count": null,
   "metadata": {},
   "outputs": [],
   "source": [
    "def show_results(img, prob, boxes, thresh_line, thresh_circle, relative=False, dpi=300, show_in_console=False, savedir=None, img_name=None, plot_img=True):\n",
    "    plt.figure(dpi=dpi)\n",
    "    plt.rcParams[\"font.size\"] = \"5\"\n",
    "    ax = plt.gca()\n",
    "    if plot_img:\n",
    "        ax.imshow(img)\n",
    "    else: \n",
    "        ax.set_xlim([0, img.shape[1]])\n",
    "        ax.set_ylim([img.shape[0], 0])\n",
    "        ax.set_aspect('equal', adjustable='box')\n",
    "    \n",
    "\n",
    "    plot_results(ax, prob, boxes, thresh_line, thresh_circle)\n",
    "    if show_in_console:\n",
    "        plt.show()\n",
    "    if savedir is not None: \n",
    "        savename = f\"{savedir}/{img_name}\"\n",
    "        os.makedirs(os.path.dirname(savename), exist_ok=True)\n",
    "        plt.axis(\"off\")\n",
    "        plt.savefig(savename, bbox_inches=\"tight\", pad_inches=0)"
   ]
  },
  {
   "cell_type": "code",
   "execution_count": null,
   "metadata": {},
   "outputs": [],
   "source": [
    "show_results(raw_img.copy(), prob, lines, 0.7, 0.7, show_in_console=False, savedir = \"real_predictions\", img_name = os.path.basename(im_path))"
   ]
  },
  {
   "cell_type": "code",
   "execution_count": null,
   "metadata": {},
   "outputs": [],
   "source": []
  }
 ],
 "metadata": {
  "kernelspec": {
   "display_name": "letr",
   "language": "python",
   "name": "python3"
  },
  "language_info": {
   "codemirror_mode": {
    "name": "ipython",
    "version": 3
   },
   "file_extension": ".py",
   "mimetype": "text/x-python",
   "name": "python",
   "nbconvert_exporter": "python",
   "pygments_lexer": "ipython3",
   "version": "3.8.16"
  },
  "orig_nbformat": 4
 },
 "nbformat": 4,
 "nbformat_minor": 2
}
